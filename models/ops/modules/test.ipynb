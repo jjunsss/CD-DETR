{
 "cells": [
  {
   "cell_type": "code",
   "execution_count": 1,
   "metadata": {},
   "outputs": [
    {
     "name": "stderr",
     "output_type": "stream",
     "text": [
      "/home/user/anaconda3/envs/deformable_detr/lib/python3.7/site-packages/tqdm/auto.py:22: TqdmWarning: IProgress not found. Please update jupyter and ipywidgets. See https://ipywidgets.readthedocs.io/en/stable/user_install.html\n",
      "  from .autonotebook import tqdm as notebook_tqdm\n"
     ]
    }
   ],
   "source": [
    "import torch\n",
    "temp = torch.randint(0, 5, (3, 1, 5))\n",
    "temp2 = torch.randint(0, 5, (3, 3, 5))"
   ]
  },
  {
   "cell_type": "code",
   "execution_count": 1,
   "metadata": {},
   "outputs": [
    {
     "ename": "ImportError",
     "evalue": "libc10.so: cannot open shared object file: No such file or directory",
     "output_type": "error",
     "traceback": [
      "\u001b[0;31m---------------------------------------------------------------------------\u001b[0m",
      "\u001b[0;31mImportError\u001b[0m                               Traceback (most recent call last)",
      "\u001b[0;32m/tmp/ipykernel_56806/766827446.py\u001b[0m in \u001b[0;36m<module>\u001b[0;34m\u001b[0m\n\u001b[0;32m----> 1\u001b[0;31m \u001b[0;32mimport\u001b[0m \u001b[0mMultiScaleDeformableAttention\u001b[0m\u001b[0;34m\u001b[0m\u001b[0;34m\u001b[0m\u001b[0m\n\u001b[0m\u001b[1;32m      2\u001b[0m \u001b[0;34m\u001b[0m\u001b[0m\n\u001b[1;32m      3\u001b[0m \u001b[0mprint\u001b[0m\u001b[0;34m(\u001b[0m\u001b[0mMultiScaleDeformableAttention\u001b[0m\u001b[0;34m)\u001b[0m\u001b[0;34m\u001b[0m\u001b[0;34m\u001b[0m\u001b[0m\n",
      "\u001b[0;31mImportError\u001b[0m: libc10.so: cannot open shared object file: No such file or directory"
     ]
    }
   ],
   "source": [
    "import MultiScaleDeformableAttention\n",
    "\n",
    "print(MultiScaleDeformableAttention)"
   ]
  },
  {
   "cell_type": "code",
   "execution_count": 3,
   "metadata": {},
   "outputs": [
    {
     "name": "stdout",
     "output_type": "stream",
     "text": [
      "tensor([[[1, 4, 3, 3, 4]],\n",
      "\n",
      "        [[1, 0, 0, 3, 1]],\n",
      "\n",
      "        [[1, 3, 2, 0, 1]]])\n",
      "tensor([[[1, 4, 2, 3, 2],\n",
      "         [4, 3, 1, 1, 0],\n",
      "         [4, 2, 0, 3, 1]],\n",
      "\n",
      "        [[1, 3, 1, 1, 2],\n",
      "         [0, 3, 1, 1, 2],\n",
      "         [2, 4, 0, 1, 2]],\n",
      "\n",
      "        [[4, 0, 4, 2, 4],\n",
      "         [3, 3, 2, 4, 2],\n",
      "         [4, 4, 3, 4, 3]]])\n",
      "tensor([[[2, 8, 5, 6, 6],\n",
      "         [5, 7, 4, 4, 4],\n",
      "         [5, 6, 3, 6, 5]],\n",
      "\n",
      "        [[2, 3, 1, 4, 3],\n",
      "         [1, 3, 1, 4, 3],\n",
      "         [3, 4, 0, 4, 3]],\n",
      "\n",
      "        [[5, 3, 6, 2, 5],\n",
      "         [4, 6, 4, 4, 3],\n",
      "         [5, 7, 5, 4, 4]]])\n"
     ]
    }
   ],
   "source": [
    "import pickle\n",
    "import os\n",
    "\n",
    "def save_rehearsal(rehearsal, dir, task):    \n",
    "    all_dir = dir  + \"ALL_gpu_rehearsal_task_\" + str(task)\n",
    "    if not os.path.exists(dir):\n",
    "        os.mkdir(dir)\n",
    "        print(f\"Directroy created\")\n",
    "\n",
    "    with open(all_dir, 'wb') as f:\n",
    "        pickle.dump(rehearsal, f)"
   ]
  },
  {
   "cell_type": "code",
   "execution_count": 15,
   "metadata": {},
   "outputs": [
    {
     "name": "stdout",
     "output_type": "stream",
     "text": [
      "torch.Size([3, 4, 5])\n"
     ]
    }
   ],
   "source": [
    "temp = temp.repeat(repeats=(1, 2, 1))\n",
    "print(temp.shape)"
   ]
  }
 ],
 "metadata": {
  "kernelspec": {
   "display_name": "deformable_detr",
   "language": "python",
   "name": "python3"
  },
  "language_info": {
   "codemirror_mode": {
    "name": "ipython",
    "version": 3
   },
   "file_extension": ".py",
   "mimetype": "text/x-python",
   "name": "python",
   "nbconvert_exporter": "python",
   "pygments_lexer": "ipython3",
   "version": "3.7.13"
  },
  "orig_nbformat": 4,
  "vscode": {
   "interpreter": {
    "hash": "e5a09c2b6f34fcc5c33c974bbe101725cfa8cb2fd6eedfde5515bd07ecae16c0"
   }
  }
 },
 "nbformat": 4,
 "nbformat_minor": 2
}
